{
 "cells": [
  {
   "cell_type": "code",
   "execution_count": 1,
   "id": "28abdb97-ace4-46d4-ad3d-95cda124744b",
   "metadata": {},
   "outputs": [],
   "source": [
    "#importing the required modules\n",
    "import cv2\n",
    "import numpy as np\n",
    "import tkinter as tk\n",
    "from tkinter import filedialog\n",
    "from PIL import Image, ImageTk\n",
    "import os"
   ]
  },
  {
   "cell_type": "code",
   "execution_count": 2,
   "id": "b07f4235-bb58-4f6b-b80d-01520c1a16a3",
   "metadata": {},
   "outputs": [],
   "source": [
    "#images folder path \n",
    "template_dir = \"templates\""
   ]
  },
  {
   "cell_type": "code",
   "execution_count": null,
   "id": "f70d2cd1-4b07-4f2c-b70d-fc2d338858da",
   "metadata": {},
   "outputs": [],
   "source": []
  }
 ],
 "metadata": {
  "kernelspec": {
   "display_name": "Python 3 (ipykernel)",
   "language": "python",
   "name": "python3"
  },
  "language_info": {
   "codemirror_mode": {
    "name": "ipython",
    "version": 3
   },
   "file_extension": ".py",
   "mimetype": "text/x-python",
   "name": "python",
   "nbconvert_exporter": "python",
   "pygments_lexer": "ipython3",
   "version": "3.12.0"
  }
 },
 "nbformat": 4,
 "nbformat_minor": 5
}
