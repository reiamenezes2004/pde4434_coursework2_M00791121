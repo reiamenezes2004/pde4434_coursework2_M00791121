{
 "cells": [
  {
   "cell_type": "code",
   "execution_count": 1,
   "id": "28abdb97-ace4-46d4-ad3d-95cda124744b",
   "metadata": {},
   "outputs": [],
   "source": [
    "#importing the required modules\n",
    "import cv2\n",
    "import numpy as np\n",
    "import tkinter as tk\n",
    "from tkinter import filedialog\n",
    "from PIL import Image, ImageTk\n",
    "import os"
   ]
  },
  {
   "cell_type": "code",
   "execution_count": 4,
   "id": "b07f4235-bb58-4f6b-b80d-01520c1a16a3",
   "metadata": {},
   "outputs": [],
   "source": [
    "#images folder path \n",
    "template_dir = \"templates\""
   ]
  },
  {
   "cell_type": "code",
   "execution_count": 5,
   "id": "f70d2cd1-4b07-4f2c-b70d-fc2d338858da",
   "metadata": {},
   "outputs": [],
   "source": [
    "#load all the images\n",
    "templates = {}\n",
    "for filename in os.listdir(template_dir):\n",
    "    if filename.endswith(\".jpg\") or filename.endswith(\".png\"):\n",
    "        label = os.path.splitext(filename)[0]\n",
    "        img = cv2.imread(os.path.join(template_dir, filename), cv2.IMREAD_GRAYSCALE)\n",
    "        templates[label] = img"
   ]
  },
  {
   "cell_type": "code",
   "execution_count": 6,
   "id": "2e5e907b-7a76-4073-891f-edd34186dcfe",
   "metadata": {},
   "outputs": [],
   "source": [
    "#function for matching the card with the template\n",
    "def match_card(input_img):\n",
    "    gray = cv2.cvtColor(input_img, cv2.COLOR_BGR2GRAY)\n",
    "    best_score = -1\n",
    "    best_label = \"Unknown\"\n",
    "\n",
    "    for label, template in templates.items():\n",
    "        template = cv2.resize(template, (gray.shape[1], gray.shape[0]))\n",
    "        res = cv2.matchTemplate(gray, template, cv2.TM_CCOEFF_NORMED)\n",
    "        _, max_val, _, _ = cv2.minMaxLoc(res)\n",
    "\n",
    "        if max_val > best_score:\n",
    "            best_score = max_val\n",
    "            best_label = label\n",
    "\n",
    "    return best_label, best_score"
   ]
  },
  {
   "cell_type": "code",
   "execution_count": null,
   "id": "7466443a-fc0a-4ca4-86aa-b179bff3f81c",
   "metadata": {},
   "outputs": [],
   "source": []
  }
 ],
 "metadata": {
  "kernelspec": {
   "display_name": "Python 3 (ipykernel)",
   "language": "python",
   "name": "python3"
  },
  "language_info": {
   "codemirror_mode": {
    "name": "ipython",
    "version": 3
   },
   "file_extension": ".py",
   "mimetype": "text/x-python",
   "name": "python",
   "nbconvert_exporter": "python",
   "pygments_lexer": "ipython3",
   "version": "3.12.0"
  }
 },
 "nbformat": 4,
 "nbformat_minor": 5
}
